{
  "nbformat": 4,
  "nbformat_minor": 0,
  "metadata": {
    "colab": {
      "provenance": []
    },
    "kernelspec": {
      "name": "python3",
      "display_name": "Python 3"
    },
    "language_info": {
      "name": "python"
    }
  },
  "cells": [
    {
      "cell_type": "code",
      "execution_count": 22,
      "metadata": {
        "colab": {
          "base_uri": "https://localhost:8080/"
        },
        "id": "hNT7fuKhOg3B",
        "outputId": "409f3d5a-e968-4701-b54f-d517282558ca"
      },
      "outputs": [
        {
          "output_type": "stream",
          "name": "stdout",
          "text": [
            "2.15.0\n"
          ]
        }
      ],
      "source": [
        "import tensorflow as tf\n",
        "print(tf.__version__)"
      ]
    },
    {
      "cell_type": "code",
      "source": [
        "import numpy as np\n",
        "import pandas as pd\n",
        "import matplotlib.pyplot as plt"
      ],
      "metadata": {
        "id": "IoR-z-LxPIpT"
      },
      "execution_count": 23,
      "outputs": []
    },
    {
      "cell_type": "code",
      "source": [
        "from tensorflow.keras.datasets import mnist\n",
        "(x_train, y_train),(x_test, y_test)=mnist.load_data()"
      ],
      "metadata": {
        "id": "sO5p7bO7PSq1"
      },
      "execution_count": 24,
      "outputs": []
    },
    {
      "cell_type": "code",
      "source": [
        "plt.imshow(x_train[2])"
      ],
      "metadata": {
        "colab": {
          "base_uri": "https://localhost:8080/",
          "height": 448
        },
        "id": "jO58o-Z1Pivg",
        "outputId": "6b4c5ad5-3c5b-4f4d-c00e-5ad7d7ff73e4"
      },
      "execution_count": 25,
      "outputs": [
        {
          "output_type": "execute_result",
          "data": {
            "text/plain": [
              "<matplotlib.image.AxesImage at 0x7ac5fa7a9690>"
            ]
          },
          "metadata": {},
          "execution_count": 25
        },
        {
          "output_type": "display_data",
          "data": {
            "text/plain": [
              "<Figure size 640x480 with 1 Axes>"
            ],
            "image/png": "[encoded data removed]"
          },
          "metadata": {}
        }
      ]
    },
    {
      "cell_type": "code",
      "source": [
        "y_train[2]"
      ],
      "metadata": {
        "colab": {
          "base_uri": "https://localhost:8080/"
        },
        "id": "Taeo8W22PsZO",
        "outputId": "776d3020-67b5-4f92-f27d-94f7a9c95ed9"
      },
      "execution_count": 26,
      "outputs": [
        {
          "output_type": "execute_result",
          "data": {
            "text/plain": [
              "4"
            ]
          },
          "metadata": {},
          "execution_count": 26
        }
      ]
    },
    {
      "cell_type": "code",
      "source": [
        "x_train.shape, y_train.shape"
      ],
      "metadata": {
        "colab": {
          "base_uri": "https://localhost:8080/"
        },
        "id": "RVsYsmTKPxT4",
        "outputId": "b05ae91e-6bf0-4544-9baa-ad208338be80"
      },
      "execution_count": 27,
      "outputs": [
        {
          "output_type": "execute_result",
          "data": {
            "text/plain": [
              "((60000, 28, 28), (60000,))"
            ]
          },
          "metadata": {},
          "execution_count": 27
        }
      ]
    },
    {
      "cell_type": "code",
      "source": [
        "x_test.shape, y_test.shape"
      ],
      "metadata": {
        "colab": {
          "base_uri": "https://localhost:8080/"
        },
        "id": "1OkuesoZP4BD",
        "outputId": "53aac93b-46c0-4002-d8da-75b88d01c6fe"
      },
      "execution_count": 28,
      "outputs": [
        {
          "output_type": "execute_result",
          "data": {
            "text/plain": [
              "((10000, 28, 28), (10000,))"
            ]
          },
          "metadata": {},
          "execution_count": 28
        }
      ]
    },
    {
      "cell_type": "code",
      "source": [
        "x_train.min(), x_train.max()"
      ],
      "metadata": {
        "colab": {
          "base_uri": "https://localhost:8080/"
        },
        "id": "s1x31rakP7nn",
        "outputId": "2968b9cb-21bf-4c65-a69a-03d0f4e8c9d7"
      },
      "execution_count": 29,
      "outputs": [
        {
          "output_type": "execute_result",
          "data": {
            "text/plain": [
              "(0, 255)"
            ]
          },
          "metadata": {},
          "execution_count": 29
        }
      ]
    },
    {
      "cell_type": "code",
      "source": [
        "y_train.min(), y_train.max()"
      ],
      "metadata": {
        "colab": {
          "base_uri": "https://localhost:8080/"
        },
        "id": "lZ99RHhLQAaX",
        "outputId": "317938ea-15ef-4fda-b046-5821262b191e"
      },
      "execution_count": 30,
      "outputs": [
        {
          "output_type": "execute_result",
          "data": {
            "text/plain": [
              "(0, 9)"
            ]
          },
          "metadata": {},
          "execution_count": 30
        }
      ]
    },
    {
      "cell_type": "code",
      "source": [
        "x_train=x_train/255.0\n",
        "x_test=x_test/255.0"
      ],
      "metadata": {
        "id": "ztWqCqqxQH9O"
      },
      "execution_count": 31,
      "outputs": []
    },
    {
      "cell_type": "code",
      "source": [
        "x_train.min(), x_train.max()"
      ],
      "metadata": {
        "colab": {
          "base_uri": "https://localhost:8080/"
        },
        "id": "OTWNdoraQPNY",
        "outputId": "74f1b9c2-ebd6-45c8-ee07-6c7b47c63b77"
      },
      "execution_count": 32,
      "outputs": [
        {
          "output_type": "execute_result",
          "data": {
            "text/plain": [
              "(0.0, 1.0)"
            ]
          },
          "metadata": {},
          "execution_count": 32
        }
      ]
    },
    {
      "cell_type": "code",
      "source": [
        "x_train.shape, x_test.shape"
      ],
      "metadata": {
        "colab": {
          "base_uri": "https://localhost:8080/"
        },
        "id": "D36RkrLOQXT2",
        "outputId": "69a09007-9c99-43dc-a9e0-0badba916f2f"
      },
      "execution_count": 33,
      "outputs": [
        {
          "output_type": "execute_result",
          "data": {
            "text/plain": [
              "((60000, 28, 28), (10000, 28, 28))"
            ]
          },
          "metadata": {},
          "execution_count": 33
        }
      ]
    },
    {
      "cell_type": "code",
      "source": [
        "#reshape\n",
        "x_train=x_train.reshape(60000, 28, 28, 1)\n",
        "x_test=x_test.reshape(10000, 28, 28, 1)"
      ],
      "metadata": {
        "id": "W4pBdTb6QZzY"
      },
      "execution_count": 34,
      "outputs": []
    },
    {
      "cell_type": "code",
      "source": [
        "x_train.shape,x_test.shape"
      ],
      "metadata": {
        "colab": {
          "base_uri": "https://localhost:8080/"
        },
        "id": "DFxs4nbTQr2A",
        "outputId": "9a9c4429-708f-4184-dac2-13532339c45a"
      },
      "execution_count": 35,
      "outputs": [
        {
          "output_type": "execute_result",
          "data": {
            "text/plain": [
              "((60000, 28, 28, 1), (10000, 28, 28, 1))"
            ]
          },
          "metadata": {},
          "execution_count": 35
        }
      ]
    },
    {
      "cell_type": "code",
      "source": [
        "input_shape=x_train[0].shape\n",
        "print(input_shape)"
      ],
      "metadata": {
        "colab": {
          "base_uri": "https://localhost:8080/"
        },
        "id": "1mTYhzGWQxrq",
        "outputId": "c3db578b-4e12-4135-9cfa-291a7fd143c3"
      },
      "execution_count": 36,
      "outputs": [
        {
          "output_type": "stream",
          "name": "stdout",
          "text": [
            "(28, 28, 1)\n"
          ]
        }
      ]
    },
    {
      "cell_type": "code",
      "source": [
        "model=tf.keras.models.Sequential()\n",
        "#1st cnn\n",
        "model.add(tf.keras.layers.Conv2D(filters=32, kernel_size=(3,3), activation='relu', input_shape=(28,28,1)))\n",
        "#2nd cnn\n",
        "model.add(tf.keras.layers.Conv2D(filters=64, kernel_size=(3,3), activation='relu'))\n",
        "#maxpool\n",
        "model.add(tf.keras.layers.MaxPool2D(pool_size=(2,2)))\n",
        "#dropout\n",
        "model.add(tf.keras.layers.Dropout(0.4))\n",
        "#flatten\n",
        "model.add(tf.keras.layers.Flatten())\n",
        "#fully connected\n",
        "model.add(tf.keras.layers.Dense(units=128, activation='relu'))\n",
        "#output\n",
        "model.add(tf.keras.layers.Dense(units=10, activation='softmax'))"
      ],
      "metadata": {
        "id": "k-yGktT7RoUr"
      },
      "execution_count": 42,
      "outputs": []
    },
    {
      "cell_type": "code",
      "source": [
        "model.summary()"
      ],
      "metadata": {
        "colab": {
          "base_uri": "https://localhost:8080/"
        },
        "id": "kSAU5DCRUgw_",
        "outputId": "dae94db2-e249-44b7-f09e-b16a6aedbe05"
      },
      "execution_count": 43,
      "outputs": [
        {
          "output_type": "stream",
          "name": "stdout",
          "text": [
            "Model: \"sequential_8\"\n",
            "_________________________________________________________________\n",
            " Layer (type)                Output Shape              Param #   \n",
            "=================================================================\n",
            " conv2d_13 (Conv2D)          (None, 26, 26, 32)        320       \n",
            "                                                                 \n",
            " conv2d_14 (Conv2D)          (None, 24, 24, 64)        18496     \n",
            "                                                                 \n",
            " max_pooling2d_4 (MaxPoolin  (None, 12, 12, 64)        0         \n",
            " g2D)                                                            \n",
            "                                                                 \n",
            " dropout_3 (Dropout)         (None, 12, 12, 64)        0         \n",
            "                                                                 \n",
            " flatten_2 (Flatten)         (None, 9216)              0         \n",
            "                                                                 \n",
            " dense_1 (Dense)             (None, 128)               1179776   \n",
            "                                                                 \n",
            " dense_2 (Dense)             (None, 10)                1290      \n",
            "                                                                 \n",
            "=================================================================\n",
            "Total params: 1199882 (4.58 MB)\n",
            "Trainable params: 1199882 (4.58 MB)\n",
            "Non-trainable params: 0 (0.00 Byte)\n",
            "_________________________________________________________________\n"
          ]
        }
      ]
    },
    {
      "cell_type": "code",
      "source": [
        "model.compile(optimizer='adam', loss='sparse_categorical_crossentropy', metrics=['sparse_categorical_accuracy'])"
      ],
      "metadata": {
        "id": "9y9JkBWfUj0J"
      },
      "execution_count": 44,
      "outputs": []
    },
    {
      "cell_type": "code",
      "source": [
        "history=model.fit(x_train, y_train, batch_size=128, epochs=10, validation_data=(x_test, y_test))"
      ],
      "metadata": {
        "colab": {
          "base_uri": "https://localhost:8080/"
        },
        "id": "EvksIKhvU2UI",
        "outputId": "275741df-7c40-4a18-f2cc-522422d36d94"
      },
      "execution_count": 45,
      "outputs": [
        {
          "output_type": "stream",
          "name": "stdout",
          "text": [
            "Epoch 1/10\n",
            "469/469 [==============================] - 184s 389ms/step - loss: 0.1688 - sparse_categorical_accuracy: 0.9496 - val_loss: 0.0585 - val_sparse_categorical_accuracy: 0.9804\n",
            "Epoch 2/10\n",
            "469/469 [==============================] - 208s 443ms/step - loss: 0.0531 - sparse_categorical_accuracy: 0.9833 - val_loss: 0.0460 - val_sparse_categorical_accuracy: 0.9855\n",
            "Epoch 3/10\n",
            "469/469 [==============================] - 153s 325ms/step - loss: 0.0353 - sparse_categorical_accuracy: 0.9890 - val_loss: 0.0335 - val_sparse_categorical_accuracy: 0.9892\n",
            "Epoch 4/10\n",
            "469/469 [==============================] - 153s 326ms/step - loss: 0.0267 - sparse_categorical_accuracy: 0.9913 - val_loss: 0.0392 - val_sparse_categorical_accuracy: 0.9888\n",
            "Epoch 5/10\n",
            "469/469 [==============================] - 151s 323ms/step - loss: 0.0201 - sparse_categorical_accuracy: 0.9936 - val_loss: 0.0284 - val_sparse_categorical_accuracy: 0.9910\n",
            "Epoch 6/10\n",
            "469/469 [==============================] - 153s 326ms/step - loss: 0.0177 - sparse_categorical_accuracy: 0.9941 - val_loss: 0.0309 - val_sparse_categorical_accuracy: 0.9898\n",
            "Epoch 7/10\n",
            "469/469 [==============================] - 152s 325ms/step - loss: 0.0151 - sparse_categorical_accuracy: 0.9950 - val_loss: 0.0399 - val_sparse_categorical_accuracy: 0.9889\n",
            "Epoch 8/10\n",
            "469/469 [==============================] - 154s 329ms/step - loss: 0.0127 - sparse_categorical_accuracy: 0.9956 - val_loss: 0.0296 - val_sparse_categorical_accuracy: 0.9909\n",
            "Epoch 9/10\n",
            "469/469 [==============================] - 153s 326ms/step - loss: 0.0094 - sparse_categorical_accuracy: 0.9972 - val_loss: 0.0322 - val_sparse_categorical_accuracy: 0.9908\n",
            "Epoch 10/10\n",
            "469/469 [==============================] - 153s 326ms/step - loss: 0.0101 - sparse_categorical_accuracy: 0.9965 - val_loss: 0.0368 - val_sparse_categorical_accuracy: 0.9900\n"
          ]
        }
      ]
    },
    {
      "cell_type": "code",
      "source": [
        "y_pred = np.argmax(model.predict(x_test), axis=-1)"
      ],
      "metadata": {
        "colab": {
          "base_uri": "https://localhost:8080/"
        },
        "id": "Z2-ga35XVmxT",
        "outputId": "9df9e99d-cd5e-4e35-efb4-1d4af7a0b274"
      },
      "execution_count": 46,
      "outputs": [
        {
          "output_type": "stream",
          "name": "stdout",
          "text": [
            "313/313 [==============================] - 9s 28ms/step\n"
          ]
        }
      ]
    },
    {
      "cell_type": "code",
      "source": [
        "y_pred[15], y_test[15]"
      ],
      "metadata": {
        "colab": {
          "base_uri": "https://localhost:8080/"
        },
        "id": "-Szqa83jVpeJ",
        "outputId": "b163ff16-8f91-4476-fa7e-ca96e7bfddaf"
      },
      "execution_count": 47,
      "outputs": [
        {
          "output_type": "execute_result",
          "data": {
            "text/plain": [
              "(5, 5)"
            ]
          },
          "metadata": {},
          "execution_count": 47
        }
      ]
    },
    {
      "cell_type": "code",
      "source": [
        "from sklearn.metrics import confusion_matrix, accuracy_score\n",
        "cm=confusion_matrix(y_test,y_pred)\n",
        "print(cm)"
      ],
      "metadata": {
        "colab": {
          "base_uri": "https://localhost:8080/"
        },
        "id": "KBFb81ObVtq5",
        "outputId": "703d14db-9fc8-4f87-d518-acfa8c0beea3"
      },
      "execution_count": 48,
      "outputs": [
        {
          "output_type": "stream",
          "name": "stdout",
          "text": [
            "[[ 975    1    0    2    0    1    1    0    0    0]\n",
            " [   3 1124    0    0    0    1    4    1    1    1]\n",
            " [   1    1 1021    3    1    0    0    4    1    0]\n",
            " [   0    0    0 1002    0    5    0    1    2    0]\n",
            " [   0    0    0    0  969    0    5    0    0    8]\n",
            " [   1    0    0    4    0  885    2    0    0    0]\n",
            " [   4    2    0    0    1    4  945    0    2    0]\n",
            " [   0    0    4    1    0    0    0 1021    1    1]\n",
            " [   2    0    2    1    0    0    1    1  964    3]\n",
            " [   1    0    0    3    4    4    0    1    2  994]]\n"
          ]
        }
      ]
    },
    {
      "cell_type": "code",
      "source": [
        "acc=accuracy_score(y_test, y_pred)\n",
        "print(acc)"
      ],
      "metadata": {
        "colab": {
          "base_uri": "https://localhost:8080/"
        },
        "id": "fdOwmFFvV7zG",
        "outputId": "1a634140-2afc-4105-809e-c24961b79a7d"
      },
      "execution_count": 49,
      "outputs": [
        {
          "output_type": "stream",
          "name": "stdout",
          "text": [
            "0.99\n"
          ]
        }
      ]
    },
    {
      "cell_type": "code",
      "source": [
        "def learning_curve(history, epoch):\n",
        "  #train vs validation Accuracy\n",
        "  epoch_range=range(1, epoch+1)\n",
        "  plt.plot(epoch_range, history.history['sparse_categorical_accuracy'])\n",
        "  plt.plot(epoch_range, history.history['val_sparse_categorical_accuracy'])\n",
        "  plt.title('Model Accuracy')\n",
        "  plt.ylabel('Accuracy')\n",
        "  plt.xlabel('Epoch')\n",
        "  plt.legend(['Train','Val'],loc='upper left')\n",
        "  plt.show()\n",
        "\n",
        "   #train vs validation Loss\n",
        "  epoch_range=range(1, epoch+1)\n",
        "  plt.plot(epoch_range, history.history['loss'])\n",
        "  plt.plot(epoch_range, history.history['val_loss'])\n",
        "  plt.title('Model Loss')\n",
        "  plt.ylabel('Loss')\n",
        "  plt.xlabel('Epoch')\n",
        "  plt.legend(['Train','Val'],loc='upper left')\n",
        "  plt.show()"
      ],
      "metadata": {
        "id": "iJeTNcXFWOaA"
      },
      "execution_count": 50,
      "outputs": []
    },
    {
      "cell_type": "code",
      "source": [
        "learning_curve(history, 10)"
      ],
      "metadata": {
        "colab": {
          "base_uri": "https://localhost:8080/",
          "height": 927
        },
        "id": "JjyumwDEWaUA",
        "outputId": "f1557571-963c-43b9-f643-c43d6f2344ba"
      },
      "execution_count": 51,
      "outputs": [
        {
          "output_type": "display_data",
          "data": {
            "text/plain": [
              "<Figure size 640x480 with 1 Axes>"
            ],
            "image/png": "[encoded data removed]"
          },
          "metadata": {}
        },
        {
          "output_type": "display_data",
          "data": {
            "text/plain": [
              "<Figure size 640x480 with 1 Axes>"
            ],
            "image/png": "[encoded data removed]"
          },
          "metadata": {}
        }
      ]
    }
  ]
}