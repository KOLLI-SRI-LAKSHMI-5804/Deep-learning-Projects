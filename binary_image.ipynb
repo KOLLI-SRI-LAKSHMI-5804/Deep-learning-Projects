{
  "nbformat": 4,
  "nbformat_minor": 0,
  "metadata": {
    "colab": {
      "provenance": []
    },
    "kernelspec": {
      "name": "python3",
      "display_name": "Python 3"
    },
    "language_info": {
      "name": "python"
    }
  },
  "cells": [
    {
      "cell_type": "code",
      "execution_count": 2,
      "metadata": {
        "id": "OtVnb-Q5d-kG",
        "colab": {
          "base_uri": "https://localhost:8080/"
        },
        "outputId": "be77631d-5652-42b1-d406-8fcfd9945206"
      },
      "outputs": [
        {
          "output_type": "stream",
          "name": "stdout",
          "text": [
            "2.15.0\n"
          ]
        }
      ],
      "source": [
        "import tensorflow as tf\n",
        "print(tf.__version__)"
      ]
    },
    {
      "cell_type": "code",
      "source": [
        "import numpy as np\n",
        "import pandas as pd\n",
        "import matplotlib.pyplot as plt"
      ],
      "metadata": {
        "id": "x_f7EsSIeLDI"
      },
      "execution_count": 3,
      "outputs": []
    },
    {
      "cell_type": "markdown",
      "source": [
        "importing"
      ],
      "metadata": {
        "id": "tFzGWEfLhKI6"
      }
    },
    {
      "cell_type": "code",
      "source": [
        "! pip install -q kaggle"
      ],
      "metadata": {
        "id": "cdoh4HBneSp_"
      },
      "execution_count": 4,
      "outputs": []
    },
    {
      "cell_type": "code",
      "source": [
        "! mkdir -p ~/.kaggle"
      ],
      "metadata": {
        "id": "pwHJwzIZeWhw"
      },
      "execution_count": 5,
      "outputs": []
    },
    {
      "cell_type": "code",
      "source": [
        "from google.colab import files\n",
        "uploaded = files.upload()"
      ],
      "metadata": {
        "colab": {
          "base_uri": "https://localhost:8080/",
          "height": 74
        },
        "id": "3ix7fdY9fOT4",
        "outputId": "e903dcf2-7c9d-4d45-e79a-f081e46c0c03"
      },
      "execution_count": 6,
      "outputs": [
        {
          "output_type": "display_data",
          "data": {
            "text/plain": [
              "<IPython.core.display.HTML object>"
            ],
            "text/html": [
              "\n",
              "     <input type=\"file\" id=\"files-c1c7e6dc-b2aa-4a44-9be9-bcd10b8d6144\" name=\"files[]\" multiple disabled\n",
              "        style=\"border:none\" />\n",
              "     <output id=\"result-c1c7e6dc-b2aa-4a44-9be9-bcd10b8d6144\">\n",
              "      Upload widget is only available when the cell has been executed in the\n",
              "      current browser session. Please rerun this cell to enable.\n",
              "      </output>\n",
              "      <script>// Copyright 2017 Google LLC\n",
              "//\n",
              "// Licensed under the Apache License, Version 2.0 (the \"License\");\n",
              "// you may not use this file except in compliance with the License.\n",
              "// You may obtain a copy of the License at\n",
              "//\n",
              "//      http://www.apache.org/licenses/LICENSE-2.0\n",
              "//\n",
              "// Unless required by applicable law or agreed to in writing, software\n",
              "// distributed under the License is distributed on an \"AS IS\" BASIS,\n",
              "// WITHOUT WARRANTIES OR CONDITIONS OF ANY KIND, either express or implied.\n",
              "// See the License for the specific language governing permissions and\n",
              "// limitations under the License.\n",
              "\n",
              "/**\n",
              " * @fileoverview Helpers for google.colab Python module.\n",
              " */\n",
              "(function(scope) {\n",
              "function span(text, styleAttributes = {}) {\n",
              "  const element = document.createElement('span');\n",
              "  element.textContent = text;\n",
              "  for (const key of Object.keys(styleAttributes)) {\n",
              "    element.style[key] = styleAttributes[key];\n",
              "  }\n",
              "  return element;\n",
              "}\n",
              "\n",
              "// Max number of bytes which will be uploaded at a time.\n",
              "const MAX_PAYLOAD_SIZE = 100 * 1024;\n",
              "\n",
              "function _uploadFiles(inputId, outputId) {\n",
              "  const steps = uploadFilesStep(inputId, outputId);\n",
              "  const outputElement = document.getElementById(outputId);\n",
              "  // Cache steps on the outputElement to make it available for the next call\n",
              "  // to uploadFilesContinue from Python.\n",
              "  outputElement.steps = steps;\n",
              "\n",
              "  return _uploadFilesContinue(outputId);\n",
              "}\n",
              "\n",
              "// This is roughly an async generator (not supported in the browser yet),\n",
              "// where there are multiple asynchronous steps and the Python side is going\n",
              "// to poll for completion of each step.\n",
              "// This uses a Promise to block the python side on completion of each step,\n",
              "// then passes the result of the previous step as the input to the next step.\n",
              "function _uploadFilesContinue(outputId) {\n",
              "  const outputElement = document.getElementById(outputId);\n",
              "  const steps = outputElement.steps;\n",
              "\n",
              "  const next = steps.next(outputElement.lastPromiseValue);\n",
              "  return Promise.resolve(next.value.promise).then((value) => {\n",
              "    // Cache the last promise value to make it available to the next\n",
              "    // step of the generator.\n",
              "    outputElement.lastPromiseValue = value;\n",
              "    return next.value.response;\n",
              "  });\n",
              "}\n",
              "\n",
              "/**\n",
              " * Generator function which is called between each async step of the upload\n",
              " * process.\n",
              " * @param {string} inputId Element ID of the input file picker element.\n",
              " * @param {string} outputId Element ID of the output display.\n",
              " * @return {!Iterable<!Object>} Iterable of next steps.\n",
              " */\n",
              "function* uploadFilesStep(inputId, outputId) {\n",
              "  const inputElement = document.getElementById(inputId);\n",
              "  inputElement.disabled = false;\n",
              "\n",
              "  const outputElement = document.getElementById(outputId);\n",
              "  outputElement.innerHTML = '';\n",
              "\n",
              "  const pickedPromise = new Promise((resolve) => {\n",
              "    inputElement.addEventListener('change', (e) => {\n",
              "      resolve(e.target.files);\n",
              "    });\n",
              "  });\n",
              "\n",
              "  const cancel = document.createElement('button');\n",
              "  inputElement.parentElement.appendChild(cancel);\n",
              "  cancel.textContent = 'Cancel upload';\n",
              "  const cancelPromise = new Promise((resolve) => {\n",
              "    cancel.onclick = () => {\n",
              "      resolve(null);\n",
              "    };\n",
              "  });\n",
              "\n",
              "  // Wait for the user to pick the files.\n",
              "  const files = yield {\n",
              "    promise: Promise.race([pickedPromise, cancelPromise]),\n",
              "    response: {\n",
              "      action: 'starting',\n",
              "    }\n",
              "  };\n",
              "\n",
              "  cancel.remove();\n",
              "\n",
              "  // Disable the input element since further picks are not allowed.\n",
              "  inputElement.disabled = true;\n",
              "\n",
              "  if (!files) {\n",
              "    return {\n",
              "      response: {\n",
              "        action: 'complete',\n",
              "      }\n",
              "    };\n",
              "  }\n",
              "\n",
              "  for (const file of files) {\n",
              "    const li = document.createElement('li');\n",
              "    li.append(span(file.name, {fontWeight: 'bold'}));\n",
              "    li.append(span(\n",
              "        `(${file.type || 'n/a'}) - ${file.size} bytes, ` +\n",
              "        `last modified: ${\n",
              "            file.lastModifiedDate ? file.lastModifiedDate.toLocaleDateString() :\n",
              "                                    'n/a'} - `));\n",
              "    const percent = span('0% done');\n",
              "    li.appendChild(percent);\n",
              "\n",
              "    outputElement.appendChild(li);\n",
              "\n",
              "    const fileDataPromise = new Promise((resolve) => {\n",
              "      const reader = new FileReader();\n",
              "      reader.onload = (e) => {\n",
              "        resolve(e.target.result);\n",
              "      };\n",
              "      reader.readAsArrayBuffer(file);\n",
              "    });\n",
              "    // Wait for the data to be ready.\n",
              "    let fileData = yield {\n",
              "      promise: fileDataPromise,\n",
              "      response: {\n",
              "        action: 'continue',\n",
              "      }\n",
              "    };\n",
              "\n",
              "    // Use a chunked sending to avoid message size limits. See b/62115660.\n",
              "    let position = 0;\n",
              "    do {\n",
              "      const length = Math.min(fileData.byteLength - position, MAX_PAYLOAD_SIZE);\n",
              "      const chunk = new Uint8Array(fileData, position, length);\n",
              "      position += length;\n",
              "\n",
              "      const base64 = btoa(String.fromCharCode.apply(null, chunk));\n",
              "      yield {\n",
              "        response: {\n",
              "          action: 'append',\n",
              "          file: file.name,\n",
              "          data: base64,\n",
              "        },\n",
              "      };\n",
              "\n",
              "      let percentDone = fileData.byteLength === 0 ?\n",
              "          100 :\n",
              "          Math.round((position / fileData.byteLength) * 100);\n",
              "      percent.textContent = `${percentDone}% done`;\n",
              "\n",
              "    } while (position < fileData.byteLength);\n",
              "  }\n",
              "\n",
              "  // All done.\n",
              "  yield {\n",
              "    response: {\n",
              "      action: 'complete',\n",
              "    }\n",
              "  };\n",
              "}\n",
              "\n",
              "scope.google = scope.google || {};\n",
              "scope.google.colab = scope.google.colab || {};\n",
              "scope.google.colab._files = {\n",
              "  _uploadFiles,\n",
              "  _uploadFilesContinue,\n",
              "};\n",
              "})(self);\n",
              "</script> "
            ]
          },
          "metadata": {}
        },
        {
          "output_type": "stream",
          "name": "stdout",
          "text": [
            "Saving kaggle.json to kaggle.json\n"
          ]
        }
      ]
    },
    {
      "cell_type": "code",
      "source": [
        "! cp kaggle.json ~/.kaggle/"
      ],
      "metadata": {
        "id": "33ed4p39iYDB"
      },
      "execution_count": 7,
      "outputs": []
    },
    {
      "cell_type": "code",
      "source": [
        "! chmod 600 /root/.kaggle/kaggle.json"
      ],
      "metadata": {
        "id": "-m8lP1YNiw5v"
      },
      "execution_count": 8,
      "outputs": []
    },
    {
      "cell_type": "code",
      "source": [
        "! kaggle datasets list"
      ],
      "metadata": {
        "colab": {
          "base_uri": "https://localhost:8080/"
        },
        "id": "eXv3uT-ai6rE",
        "outputId": "769c8c01-a247-439d-9d17-9ad9b6b29c6f"
      },
      "execution_count": 9,
      "outputs": [
        {
          "output_type": "stream",
          "name": "stdout",
          "text": [
            "Warning: Looks like you're using an outdated API Version, please consider updating (server 1.6.4 / client 1.5.16)\n",
            "ref                                                                title                                                size  lastUpdated          downloadCount  voteCount  usabilityRating  \n",
            "-----------------------------------------------------------------  --------------------------------------------------  -----  -------------------  -------------  ---------  ---------------  \n",
            "nelgiriyewithana/apple-quality                                     Apple Quality                                       170KB  2024-01-11 14:31:07           8613        210  1.0              \n",
            "bhavikjikadara/loan-status-prediction                              Loan Status Prediction                                5KB  2024-02-02 13:27:20            619         25  1.0              \n",
            "hummaamqaasim/jobs-in-data                                         Jobs and Salaries in Data Science                    76KB  2023-12-25 20:03:32          14567        258  1.0              \n",
            "asaniczka/video-game-sales-2024                                    Video Game Sales 2024                                 2MB  2024-01-29 15:58:39           1554         38  1.0              \n",
            "missionjee/car-sales-report                                        Car Sales Report                                    657KB  2024-01-20 20:11:42           2669         53  1.0              \n",
            "najeebz/electronic-card-transactions-dec-2023-new-zealand          Electronic Card Transactions 2000-2023              127KB  2024-01-24 02:48:11           1065         25  1.0              \n",
            "cdeotte/brain-spectrograms                                         Brain-Spectrograms                                    3GB  2024-01-13 03:25:31            693        163  0.625            \n",
            "yashusinghal/electric-vehicle-population-dataset                   Electric Vehicle Population Dataset                   5MB  2024-01-27 16:47:10           1416         35  1.0              \n",
            "saketk511/travel-dataset-guide-to-indias-must-see-places           Travel Dataset: Guide to India's Must See Places      9KB  2024-01-31 07:55:47            694         27  1.0              \n",
            "willianoliveiragibin/qs-top-100-universities                       QS top 100 universities                               4KB  2024-01-21 20:40:02           1181         30  1.0              \n",
            "willianoliveiragibin/financial-data                                Financial_Data                                       28KB  2024-01-27 21:29:52           1273         40  1.0              \n",
            "saimondahal/life-expectancy-trends-for-males-and-females           Life Expectancy Trends for Males and Females        263KB  2024-01-28 09:26:09           1030         30  1.0              \n",
            "mrsimple07/clothes-price-prediction                                Clothes Price Prediction                              6KB  2024-01-30 09:55:21            867         32  1.0              \n",
            "malingarajapaksha/my-spotify-data-cleaned                          My Spotify Data - Cleaned                             3MB  2024-01-26 02:54:16            707         25  1.0              \n",
            "terencicp/musical-collaborations-between-top-artists-in-2022       Musical collaborations between top artists in 2022   18KB  2024-01-19 17:13:13            443         21  1.0              \n",
            "computingvictor/zillow-market-analysis-and-real-estate-sales-data  🏠 Airbnb Market Analysis & Real Estate Sales Data     3MB  2024-01-26 16:29:34           1507         40  1.0              \n",
            "dansbecker/melbourne-housing-snapshot                              Melbourne Housing Snapshot                          451KB  2018-06-05 12:52:24         137254       1424  0.7058824        \n",
            "mrsimple07/student-exam-performance-prediction                     Student Exam Performance Prediction                  10KB  2024-01-14 12:02:45           3182         62  1.0              \n",
            "juledz/heart-attack-prediction                                     Heart Attack Prediction                               8KB  2024-01-19 16:11:46           2153         44  1.0              \n",
            "nelgiriyewithana/new-york-housing-market                           New York Housing Market                             271KB  2024-01-06 16:41:00           5109        114  1.0              \n"
          ]
        }
      ]
    },
    {
      "cell_type": "code",
      "source": [
        "! kaggle datasets download -d tongpython/cat-and-dog"
      ],
      "metadata": {
        "colab": {
          "base_uri": "https://localhost:8080/"
        },
        "id": "PWnDmTkFjDZ9",
        "outputId": "91e2396e-7122-4d1e-e260-57f53b662796"
      },
      "execution_count": 10,
      "outputs": [
        {
          "output_type": "stream",
          "name": "stdout",
          "text": [
            "Downloading cat-and-dog.zip to /content\n",
            "100% 217M/218M [00:01<00:00, 182MB/s]\n",
            "100% 218M/218M [00:01<00:00, 167MB/s]\n"
          ]
        }
      ]
    },
    {
      "cell_type": "code",
      "source": [
        "! unzip -q /content/cat-and-dog.zip"
      ],
      "metadata": {
        "id": "9OZXSwGMkFHP"
      },
      "execution_count": 11,
      "outputs": []
    },
    {
      "cell_type": "markdown",
      "source": [
        "MODEL BUILDING"
      ],
      "metadata": {
        "id": "lX8H-vzDkXse"
      }
    },
    {
      "cell_type": "code",
      "source": [
        "model=tf.keras.models.Sequential()"
      ],
      "metadata": {
        "id": "H2B6yhJjkWJS"
      },
      "execution_count": 12,
      "outputs": []
    },
    {
      "cell_type": "code",
      "source": [
        "#1st cnn\n",
        "model.add(tf.keras.layers.Conv2D(filters=64, kernel_size=3, padding='same', activation='relu', input_shape=(32,32,3)))"
      ],
      "metadata": {
        "id": "aJu5_whoIF5n"
      },
      "execution_count": 18,
      "outputs": []
    },
    {
      "cell_type": "code",
      "source": [
        "#maxpool\n",
        "model.add(tf.keras.layers.MaxPool2D(pool_size=(2,2), strides=2, padding='valid'))"
      ],
      "metadata": {
        "id": "NIo8NGwiJAtB"
      },
      "execution_count": 19,
      "outputs": []
    },
    {
      "cell_type": "code",
      "source": [
        "#2nd cnn\n",
        "model.add(tf.keras.layers.Conv2D(filters=64, kernel_size=3, padding='same', activation='relu'))"
      ],
      "metadata": {
        "id": "dY5GbLeCJNz-"
      },
      "execution_count": 20,
      "outputs": []
    },
    {
      "cell_type": "code",
      "source": [
        "#maxpool\n",
        "model.add(tf.keras.layers.MaxPool2D(pool_size=(2,2), strides=2, padding='valid'))"
      ],
      "metadata": {
        "id": "_iSXSSdAJbEF"
      },
      "execution_count": 21,
      "outputs": []
    },
    {
      "cell_type": "code",
      "source": [
        "model.add(tf.keras.layers.Flatten())"
      ],
      "metadata": {
        "id": "RFzYFQ_SJyCz"
      },
      "execution_count": 22,
      "outputs": []
    },
    {
      "cell_type": "code",
      "source": [
        "model.add(tf.keras.layers.Dropout(0.4))"
      ],
      "metadata": {
        "id": "y5i1t0TUJ4fV"
      },
      "execution_count": 23,
      "outputs": []
    },
    {
      "cell_type": "code",
      "source": [
        "model.add(tf.keras.layers.Dense(units=128, activation='relu'))"
      ],
      "metadata": {
        "id": "eKEeUrxGJ-lq"
      },
      "execution_count": 24,
      "outputs": []
    },
    {
      "cell_type": "code",
      "source": [
        "model.add(tf.keras.layers.Dense(units=1, activation='sigmoid'))"
      ],
      "metadata": {
        "id": "0OifAUKnKHcL"
      },
      "execution_count": 25,
      "outputs": []
    },
    {
      "cell_type": "code",
      "source": [
        "#compile\n",
        "model.compile(optimizer='adam', loss='binary_crossentropy', metrics=['accuracy'])"
      ],
      "metadata": {
        "id": "ZzklzKBCKNuk"
      },
      "execution_count": 26,
      "outputs": []
    },
    {
      "cell_type": "code",
      "source": [
        "from tensorflow.keras.preprocessing.image import ImageDataGenerator\n",
        "training_data_dir='/content/training_set/training_set'\n",
        "testing_data_dir='/content/test_set/test_set'"
      ],
      "metadata": {
        "id": "s0kCW074Kb_-"
      },
      "execution_count": 35,
      "outputs": []
    },
    {
      "cell_type": "code",
      "source": [
        "#rescale\n",
        "datagen=ImageDataGenerator(rescale=1./255)"
      ],
      "metadata": {
        "id": "gQ9tFQ0iKxGW"
      },
      "execution_count": 36,
      "outputs": []
    },
    {
      "cell_type": "code",
      "source": [
        "training_set=datagen.flow_from_directory(directory=training_data_dir, target_size=(32,32), classes=['dogs','cats'], class_mode='binary',batch_size=20)\n",
        "testing_set=datagen.flow_from_directory(directory=testing_data_dir, target_size=(32,32), classes=['dogs','cats'], class_mode='binary',batch_size=20)"
      ],
      "metadata": {
        "colab": {
          "base_uri": "https://localhost:8080/"
        },
        "id": "P2a00NVNLG2r",
        "outputId": "f07e137e-2820-4d30-e488-887f9b5a3fe0"
      },
      "execution_count": 37,
      "outputs": [
        {
          "output_type": "stream",
          "name": "stdout",
          "text": [
            "Found 8005 images belonging to 2 classes.\n",
            "Found 2023 images belonging to 2 classes.\n"
          ]
        }
      ]
    },
    {
      "cell_type": "code",
      "source": [
        "len(training_set), len(testing_set)"
      ],
      "metadata": {
        "colab": {
          "base_uri": "https://localhost:8080/"
        },
        "id": "3xjuf0zBL7pd",
        "outputId": "9b25ec91-f9ff-4193-a930-82c565629278"
      },
      "execution_count": 38,
      "outputs": [
        {
          "output_type": "execute_result",
          "data": {
            "text/plain": [
              "(401, 102)"
            ]
          },
          "metadata": {},
          "execution_count": 38
        }
      ]
    },
    {
      "cell_type": "code",
      "source": [
        "len(training_set)*20, len(testing_set)*20"
      ],
      "metadata": {
        "colab": {
          "base_uri": "https://localhost:8080/"
        },
        "id": "-ikSRvt9MG5A",
        "outputId": "68dd98c6-7351-4597-855e-e12eaf689faf"
      },
      "execution_count": 39,
      "outputs": [
        {
          "output_type": "execute_result",
          "data": {
            "text/plain": [
              "(8020, 2040)"
            ]
          },
          "metadata": {},
          "execution_count": 39
        }
      ]
    },
    {
      "cell_type": "code",
      "source": [
        "testing_set.batch_size"
      ],
      "metadata": {
        "colab": {
          "base_uri": "https://localhost:8080/"
        },
        "id": "kYAUZTevMQBF",
        "outputId": "04d40651-020c-44e2-fbdb-bd2ad76dab16"
      },
      "execution_count": 42,
      "outputs": [
        {
          "output_type": "execute_result",
          "data": {
            "text/plain": [
              "20"
            ]
          },
          "metadata": {},
          "execution_count": 42
        }
      ]
    },
    {
      "cell_type": "code",
      "source": [
        "history=model.fit_generator(generator=training_set, steps_per_epoch=401, epochs=20, validation_data=testing_set, validation_steps=102)"
      ],
      "metadata": {
        "colab": {
          "base_uri": "https://localhost:8080/"
        },
        "id": "f-t5BDA-Mh64",
        "outputId": "87f6e529-85d5-42f1-d205-12e566e062f3"
      },
      "execution_count": 43,
      "outputs": [
        {
          "output_type": "stream",
          "name": "stdout",
          "text": [
            "Epoch 1/20\n"
          ]
        },
        {
          "output_type": "stream",
          "name": "stderr",
          "text": [
            "<ipython-input-43-3381c4cf7bf5>:1: UserWarning: `Model.fit_generator` is deprecated and will be removed in a future version. Please use `Model.fit`, which supports generators.\n",
            "  history=model.fit_generator(generator=training_set, steps_per_epoch=401, epochs=20, validation_data=testing_set, validation_steps=102)\n"
          ]
        },
        {
          "output_type": "stream",
          "name": "stdout",
          "text": [
            "401/401 [==============================] - 39s 95ms/step - loss: 0.6861 - accuracy: 0.5343 - val_loss: 0.6626 - val_accuracy: 0.5848\n",
            "Epoch 2/20\n",
            "401/401 [==============================] - 37s 93ms/step - loss: 0.6390 - accuracy: 0.6347 - val_loss: 0.6256 - val_accuracy: 0.6555\n",
            "Epoch 3/20\n",
            "401/401 [==============================] - 45s 111ms/step - loss: 0.5866 - accuracy: 0.6903 - val_loss: 0.5923 - val_accuracy: 0.6901\n",
            "Epoch 4/20\n",
            "401/401 [==============================] - 61s 152ms/step - loss: 0.5401 - accuracy: 0.7254 - val_loss: 0.5459 - val_accuracy: 0.7311\n",
            "Epoch 5/20\n",
            "401/401 [==============================] - 50s 124ms/step - loss: 0.5007 - accuracy: 0.7565 - val_loss: 0.5133 - val_accuracy: 0.7528\n",
            "Epoch 6/20\n",
            "401/401 [==============================] - 43s 107ms/step - loss: 0.4642 - accuracy: 0.7751 - val_loss: 0.5104 - val_accuracy: 0.7489\n",
            "Epoch 7/20\n",
            "401/401 [==============================] - 40s 99ms/step - loss: 0.4196 - accuracy: 0.8070 - val_loss: 0.5542 - val_accuracy: 0.7504\n",
            "Epoch 8/20\n",
            "401/401 [==============================] - 36s 90ms/step - loss: 0.3801 - accuracy: 0.8287 - val_loss: 0.4657 - val_accuracy: 0.7840\n",
            "Epoch 9/20\n",
            "401/401 [==============================] - 40s 99ms/step - loss: 0.3366 - accuracy: 0.8493 - val_loss: 0.5198 - val_accuracy: 0.7692\n",
            "Epoch 10/20\n",
            "401/401 [==============================] - 37s 92ms/step - loss: 0.3009 - accuracy: 0.8682 - val_loss: 0.5337 - val_accuracy: 0.7761\n",
            "Epoch 11/20\n",
            "401/401 [==============================] - 38s 96ms/step - loss: 0.2589 - accuracy: 0.8903 - val_loss: 0.5329 - val_accuracy: 0.7692\n",
            "Epoch 12/20\n",
            "401/401 [==============================] - 39s 97ms/step - loss: 0.2273 - accuracy: 0.9047 - val_loss: 0.5700 - val_accuracy: 0.7514\n",
            "Epoch 13/20\n",
            "401/401 [==============================] - 38s 95ms/step - loss: 0.1985 - accuracy: 0.9184 - val_loss: 0.6426 - val_accuracy: 0.7795\n",
            "Epoch 14/20\n",
            "401/401 [==============================] - 38s 94ms/step - loss: 0.1769 - accuracy: 0.9285 - val_loss: 0.6110 - val_accuracy: 0.7721\n",
            "Epoch 15/20\n",
            "401/401 [==============================] - 38s 94ms/step - loss: 0.1562 - accuracy: 0.9375 - val_loss: 0.7349 - val_accuracy: 0.7766\n",
            "Epoch 16/20\n",
            "401/401 [==============================] - 36s 91ms/step - loss: 0.1414 - accuracy: 0.9445 - val_loss: 0.6859 - val_accuracy: 0.7533\n",
            "Epoch 17/20\n",
            "401/401 [==============================] - 39s 96ms/step - loss: 0.1129 - accuracy: 0.9558 - val_loss: 0.7867 - val_accuracy: 0.7805\n",
            "Epoch 18/20\n",
            "401/401 [==============================] - 36s 89ms/step - loss: 0.1127 - accuracy: 0.9572 - val_loss: 0.8255 - val_accuracy: 0.7790\n",
            "Epoch 19/20\n",
            "401/401 [==============================] - 36s 90ms/step - loss: 0.0997 - accuracy: 0.9626 - val_loss: 0.7896 - val_accuracy: 0.7741\n",
            "Epoch 20/20\n",
            "401/401 [==============================] - 40s 100ms/step - loss: 0.0864 - accuracy: 0.9666 - val_loss: 0.9409 - val_accuracy: 0.7672\n"
          ]
        }
      ]
    },
    {
      "cell_type": "code",
      "source": [
        "def learning_curve(history, epoch):\n",
        "  #train vs validation Accuracy\n",
        "  epoch_range=range(1, epoch+1)\n",
        "  plt.plot(epoch_range, history.history['accuracy'])\n",
        "  plt.plot(epoch_range, history.history['val_accuracy'])\n",
        "  plt.title('Model Accuracy')\n",
        "  plt.ylabel('Accuracy')\n",
        "  plt.xlabel('Epoch')\n",
        "  plt.legend(['Train','Val'],loc='upper left')\n",
        "  plt.show()\n",
        "\n",
        "   #train vs validation Loss\n",
        "  epoch_range=range(1, epoch+1)\n",
        "  plt.plot(epoch_range, history.history['loss'])\n",
        "  plt.plot(epoch_range, history.history['val_loss'])\n",
        "  plt.title('Model Loss')\n",
        "  plt.ylabel('Loss')\n",
        "  plt.xlabel('Epoch')\n",
        "  plt.legend(['Train','Val'],loc='upper left')\n",
        "  plt.show()"
      ],
      "metadata": {
        "id": "wgEuTH5uNHn6"
      },
      "execution_count": 49,
      "outputs": []
    },
    {
      "cell_type": "code",
      "source": [
        "learning_curve(history, 20)"
      ],
      "metadata": {
        "colab": {
          "base_uri": "https://localhost:8080/",
          "height": 927
        },
        "id": "CfaXX_J-OP3P",
        "outputId": "23f884b5-8457-4a64-9d21-6e4346dd23e9"
      },
      "execution_count": 50,
      "outputs": [
        {
          "output_type": "display_data",
          "data": {
            "text/plain": [
              "<Figure size 640x480 with 1 Axes>"
            ],
            "image/png": "[encoded data removed]"
          },
          "metadata": {}
        },
        {
          "output_type": "display_data",
          "data": {
            "text/plain": [
              "<Figure size 640x480 with 1 Axes>"
            ],
            "image/png": "[encoded data removed]"
          },
          "metadata": {}
        }
      ]
    }
  ]
}